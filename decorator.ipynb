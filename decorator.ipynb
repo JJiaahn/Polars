{
 "cells": [
  {
   "cell_type": "markdown",
   "metadata": {},
   "source": [
    "# Decorator\n",
    "- 파이썬 함수에 적용되는 기능\n",
    "- 함수를 감싸서 추가적인 기능을 부여\n",
    "- 데코레이터 역시 하나의 함수인데, input으로 함수를 받아서, output으로 함수를 반환\n",
    "- 코드의 중복을 줄이고, 가독성을 높이기 위해 사용\n",
    "- 실행 시간 측정, 함수 내부 작업의 메모리 사용량 측정, 함수 작업 로깅"
   ]
  },
  {
   "cell_type": "code",
   "execution_count": 6,
   "metadata": {},
   "outputs": [
    {
     "name": "stdout",
     "output_type": "stream",
     "text": [
      "Hello Jian\n"
     ]
    }
   ],
   "source": [
    "# 1) 함수의 이름만 따로 변수에 저장이 가능하다\n",
    "def say_hello():\n",
    "    print('Hello Jian')\n",
    "\n",
    "# 함수 이름만 바꾸는 느낌, 데코레이터를 이해하기 위한 예시\n",
    "func = say_hello\n",
    "\n",
    "func()"
   ]
  },
  {
   "cell_type": "code",
   "execution_count": 1,
   "metadata": {},
   "outputs": [
    {
     "name": "stdout",
     "output_type": "stream",
     "text": [
      "Hello Jian\n",
      "함수 실행 시간: 1.5026161670684814초\n"
     ]
    }
   ],
   "source": [
    "# 2)특정 함수의 실행 시간을 측정하고 싶다\n",
    "\n",
    "import time\n",
    "\n",
    "def say_hello():\n",
    "    start = time.time()\n",
    "    print('Hello Jian')\n",
    "    time.sleep(1.5)\n",
    "    end = time.time()\n",
    "    print(f'함수 실행 시간: {end - start}초')\n",
    "\n",
    "say_hello()"
   ]
  },
  {
   "cell_type": "code",
   "execution_count": 2,
   "metadata": {},
   "outputs": [],
   "source": [
    "# 3) 함수가 A - Z 까지 26개 일 때, 모든 함수의 실행 시간을 각각 측정하고싶다면?\n",
    "\n",
    "# 데코레이터 개발\n",
    "def check_time(func):\n",
    "    def wrapper():\n",
    "        start = time.time()\n",
    "        func()\n",
    "        end = time.time()\n",
    "        print(f'함수 실행 시간: {end - start}초')\n",
    "    return wrapper \n",
    "\n",
    "def say_hello():\n",
    "    time.sleep(1.5)\n",
    "    print('Hello Jian')"
   ]
  },
  {
   "cell_type": "code",
   "execution_count": 3,
   "metadata": {},
   "outputs": [
    {
     "name": "stdout",
     "output_type": "stream",
     "text": [
      "Hello Jian\n",
      "함수 실행 시간: 1.502169132232666초\n"
     ]
    }
   ],
   "source": [
    "check_time(say_hello)()"
   ]
  },
  {
   "cell_type": "code",
   "execution_count": 4,
   "metadata": {},
   "outputs": [
    {
     "name": "stdout",
     "output_type": "stream",
     "text": [
      "Hello Jian\n",
      "함수 실행 시간: 1.5066030025482178초\n"
     ]
    }
   ],
   "source": [
    "@check_time\n",
    "def say_hello():\n",
    "    time.sleep(1.5)\n",
    "    print('Hello Jian')\n",
    "\n",
    "say_hello()"
   ]
  },
  {
   "cell_type": "code",
   "execution_count": 5,
   "metadata": {},
   "outputs": [
    {
     "name": "stdout",
     "output_type": "stream",
     "text": [
      "Hello 123\n",
      "함수 실행 시간: 1.5047497749328613초\n"
     ]
    }
   ],
   "source": [
    "## 매개변수가 있는 함수에 대한 데코레이터 개발\n",
    "\n",
    "def check_time(func):\n",
    "    def wrapper(name):\n",
    "        start = time.time()\n",
    "        func(name)\n",
    "        end = time.time()\n",
    "        print(f'함수 실행 시간: {end - start}초')\n",
    "    return wrapper \n",
    "\n",
    "@check_time\n",
    "def say_hello(name):\n",
    "    time.sleep(1.5)\n",
    "    print(f'Hello {name}')\n",
    "\n",
    "say_hello(123)"
   ]
  }
 ],
 "metadata": {
  "kernelspec": {
   "display_name": "polars_env",
   "language": "python",
   "name": "python3"
  },
  "language_info": {
   "codemirror_mode": {
    "name": "ipython",
    "version": 3
   },
   "file_extension": ".py",
   "mimetype": "text/x-python",
   "name": "python",
   "nbconvert_exporter": "python",
   "pygments_lexer": "ipython3",
   "version": "3.13.0"
  }
 },
 "nbformat": 4,
 "nbformat_minor": 2
}
